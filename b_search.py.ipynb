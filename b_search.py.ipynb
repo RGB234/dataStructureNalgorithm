{
 "cells": [
  {
   "cell_type": "code",
   "execution_count": 16,
   "metadata": {},
   "outputs": [
    {
     "name": "stdout",
     "output_type": "stream",
     "text": [
      "리스트에 추가할 정수 입력(오름차순), 오름차순으로 입력하지 않을 시 종료: \n",
      "x[0] : 10\n",
      "x[1] : 15\n",
      "x[2] : 17\n",
      "x[3] : 18\n",
      "x[4] : 26\n",
      "x[5] : 4\n",
      "검색할 정수 입력 : 4\n",
      "검색값과 일치하는 원소값이 없습니다\n"
     ]
    }
   ],
   "source": [
    "from typing import Any, Sequence\n",
    "\n",
    "def bin_search(a: Sequence, key: Any) -> int:\n",
    "    '''Sequence a에서 key와 일치하는 값의 int형 index 값 반환'''\n",
    "    pl = 0\n",
    "\n",
    "    pr = len(a) - 1\n",
    "    \n",
    "    while True:\n",
    "        pc = (pl + pr) // 2\n",
    "        if a[pc] > key:\n",
    "            pr = pc - 1\n",
    "\n",
    "        elif a[pc] < key:\n",
    "            pl = pc + 1\n",
    "\n",
    "        else: # a[pc] == key\n",
    "            return pc\n",
    "        \n",
    "        if pl > pr:\n",
    "            return -1\n",
    "\n",
    "if __name__ == '__main__':\n",
    "    x = []\n",
    "    print(\"리스트에 추가할 정수 입력(오름차순), 오름차순으로 입력하지 않을 시 종료: \")\n",
    "    i = 0\n",
    "    x.append(int(input('x[0] : ')))\n",
    "    i += 1\n",
    "    \n",
    "    while True:\n",
    "        x.append(int(input(f'x[{i}] : ')))\n",
    "        if x[i- 1] >= x[i]:\n",
    "            break\n",
    "        i += 1\n",
    "    \n",
    "    ky = int(input('검색할 정수 입력 : '))\n",
    "    idx = bin_search(x, ky)\n",
    "    \n",
    "    if idx == -1 :\n",
    "        print('검색값과 일치하는 원소값이 없습니다')\n",
    "    else:\n",
    "        print(f'ky == x[{idx}]')"
   ]
  },
  {
   "cell_type": "code",
   "execution_count": null,
   "metadata": {},
   "outputs": [],
   "source": []
  }
 ],
 "metadata": {
  "kernelspec": {
   "display_name": "Python [conda env:dsfs] *",
   "language": "python",
   "name": "conda-env-dsfs-py"
  },
  "language_info": {
   "codemirror_mode": {
    "name": "ipython",
    "version": 3
   },
   "file_extension": ".py",
   "mimetype": "text/x-python",
   "name": "python",
   "nbconvert_exporter": "python",
   "pygments_lexer": "ipython3",
   "version": "3.6.10"
  }
 },
 "nbformat": 4,
 "nbformat_minor": 4
}
