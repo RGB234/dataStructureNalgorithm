{
 "cells": [
  {
   "cell_type": "code",
   "execution_count": 14,
   "metadata": {},
   "outputs": [
    {
     "ename": "SyntaxError",
     "evalue": "future feature annotations is not defined (chained_hash.py, line 1)",
     "output_type": "error",
     "traceback": [
      "Traceback \u001b[1;36m(most recent call last)\u001b[0m:\n",
      "  File \u001b[0;32m\"C:\\anaconda3\\envs\\dsfs\\lib\\site-packages\\IPython\\core\\interactiveshell.py\"\u001b[0m, line \u001b[0;32m3343\u001b[0m, in \u001b[0;35mrun_code\u001b[0m\n    exec(code_obj, self.user_global_ns, self.user_ns)\n",
      "\u001b[1;36m  File \u001b[1;32m\"<ipython-input-14-0a452407e5b1>\"\u001b[1;36m, line \u001b[1;32m2\u001b[1;36m, in \u001b[1;35m<module>\u001b[1;36m\u001b[0m\n\u001b[1;33m    from chained_hash import ChainedHash\u001b[0m\n",
      "\u001b[1;36m  File \u001b[1;32m\"C:\\CodingStudy\\dataStructureNalgorithm\\chained_hash.py\"\u001b[1;36m, line \u001b[1;32m1\u001b[0m\n\u001b[1;33m    from __future__ import annotations\u001b[0m\n\u001b[1;37m                                      ^\u001b[0m\n\u001b[1;31mSyntaxError\u001b[0m\u001b[1;31m:\u001b[0m future feature annotations is not defined\n"
     ]
    }
   ],
   "source": [
    "from enum import Enum\n",
    "from chained_hash import ChainedHash\n",
    "\n",
    "Menu = Enum('Menu', ['추가', '삭제', '검색', '덤프', '종료'])\n",
    "\n",
    "def select_menu() -> Menu:\n",
    "    '''메뉴 선택'''\n",
    "    s = [f'({m.value}){m.name}' for m in Menu]\n",
    "    while True:\n",
    "        print(*s, sep = '   ', end='')\n",
    "        n = int(input(': '))\n",
    "        if 1<= n <= len(Menu):\n",
    "            return Menu(n)\n",
    "         \n",
    "hash = ChainedHash(13) #해시테이블 크기는 13으로 지정\n",
    "\n",
    "while True:\n",
    "        menu = select_menu()\n",
    "         \n",
    "        if menu == Menu.추가:\n",
    "            key = int(input('추가할 키를 입력: '))\n",
    "            val = input('추가할 값을 입력: ')\n",
    "            if not hash.add(key, val):\n",
    "                print('추가 실패(이미 존재하는 key입니다)')\n",
    "\n",
    "        elif menu == Menu.삭제:\n",
    "            key = int(input('삭제할 키를 입력: '))\n",
    "            if not hash.remove(key):\n",
    "                print('삭제 실패(존재하지 않는 key입니다)')\n",
    "\n",
    "        elif menu == Menu.검색:\n",
    "            key = int(input('검색할 키를 입력: '))\n",
    "            t = hash.search(key)\n",
    "            if t is not None:\n",
    "                 print(f' {key} : {t}(value) ')\n",
    "            else:\n",
    "                print('검색 실패(존재하지 않는 key입니다)')\n",
    "            \n",
    "        elif menu == Menu.덤프:\n",
    "            hash.dump()\n",
    "            \n",
    "        else:\n",
    "            break"
   ]
  },
  {
   "cell_type": "code",
   "execution_count": null,
   "metadata": {},
   "outputs": [],
   "source": []
  }
 ],
 "metadata": {
  "kernelspec": {
   "display_name": "Python [conda env:dsfs] *",
   "language": "python",
   "name": "conda-env-dsfs-py"
  },
  "language_info": {
   "codemirror_mode": {
    "name": "ipython",
    "version": 3
   },
   "file_extension": ".py",
   "mimetype": "text/x-python",
   "name": "python",
   "nbconvert_exporter": "python",
   "pygments_lexer": "ipython3",
   "version": "3.6.10"
  }
 },
 "nbformat": 4,
 "nbformat_minor": 4
}
