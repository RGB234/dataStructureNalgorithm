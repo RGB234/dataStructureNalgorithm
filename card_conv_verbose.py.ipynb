{
 "cells": [
  {
   "cell_type": "code",
   "execution_count": 9,
   "metadata": {},
   "outputs": [
    {
     "name": "stdout",
     "output_type": "stream",
     "text": [
      "10진수 -> n진수 변환\n",
      "변환활 음이 아닌 정수 입력: 31\n",
      "몇 진수로 변환할 것인가?(2이상 36이하): 2\n",
      " 2 | 31\n",
      "   +----\n",
      " 2 | 15 ...  1\n",
      "   +----\n",
      " 2 |  7 ...  1\n",
      "   +----\n",
      " 2 |  3 ...  1\n",
      "   +----\n",
      " 2 |  1 ...  1\n",
      "   +----\n",
      "     0 ...  1\n",
      "31(10) -> 11111(2)\n",
      "종료?(Y / N): Y\n"
     ]
    }
   ],
   "source": [
    "def card_conv(x: int, r:int) -> str:\n",
    "\n",
    "    d = ''\n",
    "    dchar = '0123456789ABCDEFGHIJKLMNOPQRSTUVWXYZ' #36진수까지 변환가능\n",
    "    n = len(str(x))\n",
    "\n",
    "    print(f'{r:2} | {x:{n}d}')\n",
    "    while x:\n",
    "        print('   +'+'-'*(n+2))\n",
    "        if x//r:\n",
    "            print(f'{r:2} | {x//r:{n}d} ... {x % r: 2}')\n",
    "        else:\n",
    "            print(f'    {x//r:{n}d} ... {x % r : 2}')\n",
    "        d += dchar[x%r]\n",
    "        x //= r\n",
    "\n",
    "    return d[::-1]\n",
    "\n",
    "if __name__ == '__main__':\n",
    "    print('10진수 -> n진수 변환')\n",
    "\n",
    "    while True:\n",
    "        while True:\n",
    "            no = int(input(\"변환활 음이 아닌 정수 입력: \"))\n",
    "            if no > 0: break\n",
    "\n",
    "        while True:\n",
    "            cd = int(input(\"몇 진수로 변환할 것인가?(2이상 36이하): \"))\n",
    "            if 2 <= cd <= 36: break\n",
    "\n",
    "        print(f'{no}(10) -> {card_conv(no, cd)}({cd})')\n",
    "\n",
    "        retry = input(\"종료?(Y / N): \")\n",
    "        if retry in {'Y', 'y'}: break"
   ]
  },
  {
   "cell_type": "code",
   "execution_count": null,
   "metadata": {},
   "outputs": [],
   "source": []
  }
 ],
 "metadata": {
  "kernelspec": {
   "display_name": "Python [conda env:dsfs] *",
   "language": "python",
   "name": "conda-env-dsfs-py"
  },
  "language_info": {
   "codemirror_mode": {
    "name": "ipython",
    "version": 3
   },
   "file_extension": ".py",
   "mimetype": "text/x-python",
   "name": "python",
   "nbconvert_exporter": "python",
   "pygments_lexer": "ipython3",
   "version": "3.6.10"
  }
 },
 "nbformat": 4,
 "nbformat_minor": 4
}
